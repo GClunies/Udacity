{
 "cells": [
  {
   "cell_type": "markdown",
   "metadata": {},
   "source": [
    "### Analyzing the Stroop Effect\n",
    "Perform the analysis in the space below. Remember to follow [the instructions](https://docs.google.com/document/d/1-OkpZLjG_kX9J6LIQ5IltsqMzVWjh36QpnP2RYpVdPU/pub?embedded=True) and review the [project rubric](https://review.udacity.com/#!/rubrics/71/view) before submitting. Once you've completed the analysis and write up, download this file as a PDF or HTML file and submit in the next section.\n",
    "\n",
    "\n",
    "(1) What is the independent variable? What is the dependent variable?"
   ]
  },
  {
   "cell_type": "markdown",
   "metadata": {},
   "source": [
    "The independent variable is whether or not the words are congruent (i.e., have matching text and ink color). The dependent variable is the time it takes for the participant to correctly state the ink colors of the listed words (equally sized)."
   ]
  },
  {
   "cell_type": "markdown",
   "metadata": {},
   "source": [
    "(2) What is an appropriate set of hypotheses for this task? What kind of statistical test do you expect to perform? Justify your choices."
   ]
  },
  {
   "cell_type": "markdown",
   "metadata": {},
   "source": [
    "An appropriate Null hypothesis is that word congruency has **no effect** on the mean response time of the population. The alternative hypothesis is that word congruency **does have an effect** on the mean response time of population.\n",
    "\n",
    "The hypotheses are listed mathematically below:\n",
    "\n",
    "$$ H_0: \\mu_I - \\mu_C = 0  $$\n",
    "$$ H_1: \\mu_I - \\mu_C \\neq 0$$\n",
    "\n",
    "Where, $\\mu_I$ is the mean response time of the population for the *incongruent* word list and $\\mu_C$ is the mean response time of the population for the *incongruent* word list.\n",
    "\n",
    "We will evaluate these hypotheses using the paired (dependent) t-test. We use a paired t-test because were are comparing two dependent samples of data. Other reasons for using the paired t-test rather than the z-test are:\n",
    "\n",
    "- We have less than 30 samples\n",
    "- We do not know the population standard deviation\n",
    "- The distribution of the differences is approximately normally distributed\n",
    "    - We will test this later on to be sure\n",
    "\n",
    "Based on the selected Type 1 error threshold (I will use $\\alpha= 0.05$), we can then infer (based on the sample data) whether or not we should reject, or fail to reject the Null hypothesis."
   ]
  },
  {
   "cell_type": "markdown",
   "metadata": {},
   "source": [
    "(3) Report some descriptive statistics regarding this dataset. Include at least one measure of central tendency and at least one measure of variability. The name of the data file is 'stroopdata.csv'."
   ]
  },
  {
   "cell_type": "code",
   "execution_count": 61,
   "metadata": {},
   "outputs": [],
   "source": [
    "# imports\n",
    "import numpy as np\n",
    "import pandas as pd\n",
    "import matplotlib.pyplot as plt\n",
    "import seaborn as sns\n",
    "\n",
    "np.random.seed(42) # set the seed for random number generation "
   ]
  },
  {
   "cell_type": "code",
   "execution_count": 62,
   "metadata": {},
   "outputs": [
    {
     "data": {
      "text/html": [
       "<div>\n",
       "<style scoped>\n",
       "    .dataframe tbody tr th:only-of-type {\n",
       "        vertical-align: middle;\n",
       "    }\n",
       "\n",
       "    .dataframe tbody tr th {\n",
       "        vertical-align: top;\n",
       "    }\n",
       "\n",
       "    .dataframe thead th {\n",
       "        text-align: right;\n",
       "    }\n",
       "</style>\n",
       "<table border=\"1\" class=\"dataframe\">\n",
       "  <thead>\n",
       "    <tr style=\"text-align: right;\">\n",
       "      <th></th>\n",
       "      <th>Congruent</th>\n",
       "      <th>Incongruent</th>\n",
       "    </tr>\n",
       "  </thead>\n",
       "  <tbody>\n",
       "    <tr>\n",
       "      <th>0</th>\n",
       "      <td>12.079</td>\n",
       "      <td>19.278</td>\n",
       "    </tr>\n",
       "    <tr>\n",
       "      <th>1</th>\n",
       "      <td>16.791</td>\n",
       "      <td>18.741</td>\n",
       "    </tr>\n",
       "    <tr>\n",
       "      <th>2</th>\n",
       "      <td>9.564</td>\n",
       "      <td>21.214</td>\n",
       "    </tr>\n",
       "    <tr>\n",
       "      <th>3</th>\n",
       "      <td>8.630</td>\n",
       "      <td>15.687</td>\n",
       "    </tr>\n",
       "    <tr>\n",
       "      <th>4</th>\n",
       "      <td>14.669</td>\n",
       "      <td>22.803</td>\n",
       "    </tr>\n",
       "  </tbody>\n",
       "</table>\n",
       "</div>"
      ],
      "text/plain": [
       "   Congruent  Incongruent\n",
       "0     12.079       19.278\n",
       "1     16.791       18.741\n",
       "2      9.564       21.214\n",
       "3      8.630       15.687\n",
       "4     14.669       22.803"
      ]
     },
     "execution_count": 62,
     "metadata": {},
     "output_type": "execute_result"
    }
   ],
   "source": [
    "# read in the data\n",
    "df = pd.read_csv('stroopdata.csv')\n",
    "df.head()"
   ]
  },
  {
   "cell_type": "code",
   "execution_count": 63,
   "metadata": {},
   "outputs": [
    {
     "data": {
      "text/html": [
       "<div>\n",
       "<style scoped>\n",
       "    .dataframe tbody tr th:only-of-type {\n",
       "        vertical-align: middle;\n",
       "    }\n",
       "\n",
       "    .dataframe tbody tr th {\n",
       "        vertical-align: top;\n",
       "    }\n",
       "\n",
       "    .dataframe thead th {\n",
       "        text-align: right;\n",
       "    }\n",
       "</style>\n",
       "<table border=\"1\" class=\"dataframe\">\n",
       "  <thead>\n",
       "    <tr style=\"text-align: right;\">\n",
       "      <th></th>\n",
       "      <th>Congruent</th>\n",
       "      <th>Incongruent</th>\n",
       "    </tr>\n",
       "  </thead>\n",
       "  <tbody>\n",
       "    <tr>\n",
       "      <th>count</th>\n",
       "      <td>24.000000</td>\n",
       "      <td>24.000000</td>\n",
       "    </tr>\n",
       "    <tr>\n",
       "      <th>mean</th>\n",
       "      <td>14.051125</td>\n",
       "      <td>22.015917</td>\n",
       "    </tr>\n",
       "    <tr>\n",
       "      <th>std</th>\n",
       "      <td>3.559358</td>\n",
       "      <td>4.797057</td>\n",
       "    </tr>\n",
       "    <tr>\n",
       "      <th>min</th>\n",
       "      <td>8.630000</td>\n",
       "      <td>15.687000</td>\n",
       "    </tr>\n",
       "    <tr>\n",
       "      <th>25%</th>\n",
       "      <td>11.895250</td>\n",
       "      <td>18.716750</td>\n",
       "    </tr>\n",
       "    <tr>\n",
       "      <th>50%</th>\n",
       "      <td>14.356500</td>\n",
       "      <td>21.017500</td>\n",
       "    </tr>\n",
       "    <tr>\n",
       "      <th>75%</th>\n",
       "      <td>16.200750</td>\n",
       "      <td>24.051500</td>\n",
       "    </tr>\n",
       "    <tr>\n",
       "      <th>max</th>\n",
       "      <td>22.328000</td>\n",
       "      <td>35.255000</td>\n",
       "    </tr>\n",
       "  </tbody>\n",
       "</table>\n",
       "</div>"
      ],
      "text/plain": [
       "       Congruent  Incongruent\n",
       "count  24.000000    24.000000\n",
       "mean   14.051125    22.015917\n",
       "std     3.559358     4.797057\n",
       "min     8.630000    15.687000\n",
       "25%    11.895250    18.716750\n",
       "50%    14.356500    21.017500\n",
       "75%    16.200750    24.051500\n",
       "max    22.328000    35.255000"
      ]
     },
     "execution_count": 63,
     "metadata": {},
     "output_type": "execute_result"
    }
   ],
   "source": [
    "df.describe() "
   ]
  },
  {
   "cell_type": "markdown",
   "metadata": {},
   "source": [
    "(3) Report some descriptive statistics regarding this dataset. Include at least one measure of central tendency and at least one measure of variability. The name of the data file is 'stroopdata.csv'."
   ]
  },
  {
   "cell_type": "code",
   "execution_count": 64,
   "metadata": {},
   "outputs": [
    {
     "data": {
      "text/plain": [
       "(14.051125000000004, 22.01591666666667)"
      ]
     },
     "execution_count": 64,
     "metadata": {},
     "output_type": "execute_result"
    }
   ],
   "source": [
    "# get means\n",
    "mean_congruent = np.mean(df.Congruent)\n",
    "mean_incongruent = np.mean(df.Incongruent)\n",
    "\n",
    "mean_congruent, mean_incongruent"
   ]
  },
  {
   "cell_type": "code",
   "execution_count": 65,
   "metadata": {},
   "outputs": [
    {
     "data": {
      "text/plain": [
       "(14.3565, 21.0175)"
      ]
     },
     "execution_count": 65,
     "metadata": {},
     "output_type": "execute_result"
    }
   ],
   "source": [
    "# get medians\n",
    "median_congruent = np.median(df.Congruent)\n",
    "median_incongruent = np.median(df.Incongruent)\n",
    "\n",
    "median_congruent, median_incongruent"
   ]
  },
  {
   "cell_type": "code",
   "execution_count": 66,
   "metadata": {},
   "outputs": [
    {
     "data": {
      "text/plain": [
       "(3.4844157127666326, 4.696055134513317)"
      ]
     },
     "execution_count": 66,
     "metadata": {},
     "output_type": "execute_result"
    }
   ],
   "source": [
    "# get standard deviations\n",
    "stdev_congruent = np.std(df.Congruent)\n",
    "stdev_incongruent = np.std(df.Incongruent)\n",
    "\n",
    "stdev_congruent, stdev_incongruent"
   ]
  },
  {
   "cell_type": "markdown",
   "metadata": {},
   "source": [
    "The mean and median time it took participants to correctly state the colors of the congruent word list were 14.05 and 14.36 seconds respectively. The mean and median time it took participants to correctly state the colors of the incongruent word list were 22.02 and 21.02 seconds respectively.\n",
    "\n",
    "The standard deveiation of time taken for the congruent words was 3.48 seconds. The standard deveiation of time taken for the congruent words was 4.70 seconds."
   ]
  },
  {
   "cell_type": "markdown",
   "metadata": {},
   "source": [
    "(4) Provide one or two visualizations that show the distribution of the sample data. Write one or two sentences noting what you observe about the plot or plots."
   ]
  },
  {
   "cell_type": "code",
   "execution_count": 67,
   "metadata": {},
   "outputs": [
    {
     "data": {
      "image/png": "[encoded data removed]",
      "text/plain": [
       "<matplotlib.figure.Figure at 0x1a208dbfd0>"
      ]
     },
     "metadata": {},
     "output_type": "display_data"
    }
   ],
   "source": [
    "from matplotlib.lines import Line2D\n",
    "\n",
    "# initiate figure with 2 axis abjects for subplot\n",
    "fig, (ax0, ax1) = plt.subplots(1, 2, figsize=(16, 6))\n",
    "\n",
    "#### plot overlapping histograms ####\n",
    "ax0.hist(df.Congruent, alpha=0.5, bins=range(5,35,1))\n",
    "ax0.hist(df.Incongruent, alpha=0.5);\n",
    "\n",
    "# plot sample means as vertical lines\n",
    "ax0.axvline(mean_congruent, linewidth=3, color='blue')\n",
    "ax0.axvline(mean_incongruent, linewidth=3, color='orange')\n",
    "\n",
    "# clean up plot\n",
    "ax0.tick_params(labelsize=14)\n",
    "ax0.set_xlabel('Time (s)', fontsize=16)\n",
    "ax0.set_ylabel('Count', fontsize=16)\n",
    "ax0.legend(loc='upper right', fontsize=12);\n",
    "ax0.set_title('Histograms of Congruent Times\\n and Incongruent Times', fontsize=18);\n",
    "\n",
    "#### scatter plot ####\n",
    "ax1.scatter(df.Congruent, df.Incongruent)\n",
    "l = Line2D([5,40],[5,40], linewidth=2, color='black')\n",
    "ax1.add_line(l)\n",
    "\n",
    "# clean up plot\n",
    "ax1.tick_params(labelsize=14)\n",
    "ax1.set_xlim(5,40)\n",
    "ax1.set_ylim(5,40)\n",
    "ax1.set_xlabel('Congruent Time (s)', fontsize=16)\n",
    "ax1.set_ylabel('Incongruent Time (s)', fontsize=16);\n",
    "ax1.set_title('Time Taken to Correctly State Word Color:\\n Congruent vs. Incongruent', fontsize=18);"
   ]
  },
  {
   "cell_type": "markdown",
   "metadata": {},
   "source": [
    "Based on the histograms (left) above we can see that there is some overlap between the some of the participants response times in the congruent and incongruent groups. However, the means (shown by vertical lines) show that there is some noticeable difference in the average time taken by each group as well.\n",
    "\n",
    "From the scatter (right) we can see that all of the participants in our sample took longer to state the correct colors of the incongruent word list when compared to the congruent list. This is easy to identify using the 1:1 line."
   ]
  },
  {
   "cell_type": "markdown",
   "metadata": {},
   "source": [
    "(5) Now, perform the statistical test and report the results. What is the confidence level and your critical statistic value? Do you reject the null hypothesis or fail to reject it? Come to a conclusion in terms of the experiment task. Did the results match up with your expectations?"
   ]
  },
  {
   "cell_type": "markdown",
   "metadata": {},
   "source": [
    "As stated in question 2, we need to prove that the distribution of the differences is approximately normally distributed."
   ]
  },
  {
   "cell_type": "code",
   "execution_count": 70,
   "metadata": {},
   "outputs": [
    {
     "data": {
      "text/plain": [
       "Text(0.5,1,'Probability Plot: Differences')"
      ]
     },
     "execution_count": 70,
     "metadata": {},
     "output_type": "execute_result"
    },
    {
     "data": {
      "image/png": "[encoded data removed]",
      "text/plain": [
       "<matplotlib.figure.Figure at 0x1a20613f28>"
      ]
     },
     "metadata": {},
     "output_type": "display_data"
    }
   ],
   "source": [
    "from scipy import stats\n",
    "\n",
    "# get differences of paired samples\n",
    "df['diff'] = df.Incongruent - df.Congruent\n",
    "\n",
    "# plot P-P plots to assess normality\n",
    "fig, ax0 = plt.subplots()\n",
    "stats.probplot(df['diff'], plot=ax0);\n",
    "ax0.set_title('Probability Plot: Differences')"
   ]
  },
  {
   "cell_type": "markdown",
   "metadata": {},
   "source": [
    "Based on the above P-P plot above, we can say that the distribution of the differences is approximately normally distributed, but that the differences are right skewed based on the upward curvature of the data. Since the t-test is relatively robust to non-normaliity, let's continue our analsysis using the t-test."
   ]
  },
  {
   "cell_type": "code",
   "execution_count": 71,
   "metadata": {},
   "outputs": [
    {
     "data": {
      "text/plain": [
       "(8.020706944109957, 4.103000585711178e-08)"
      ]
     },
     "execution_count": 71,
     "metadata": {},
     "output_type": "execute_result"
    }
   ],
   "source": [
    "from scipy import stats\n",
    "\n",
    "# dependent t-test\n",
    "(t_val, p_val) = stats.ttest_rel(df.Incongruent, df.Congruent)\n",
    "t_val, p_val"
   ]
  },
  {
   "cell_type": "markdown",
   "metadata": {},
   "source": [
    "The result of the t-test returns an extremely small p-value (0.00000004), which supports rejecting the Null hypothesis. \n",
    "\n",
    "We can determine the critical value for our t-test using a [t-table](http://www.sjsu.edu/faculty/gerstman/StatPrimer/t-table.pdf). We have a sample size of 24, therefore we have 23 degrees of freedom, using the formula:\n",
    "\n",
    "$$ df = n - 1 $$\n",
    "\n",
    "Since I have selected a Type 1 error thrsehold of $\\alpha = 0.05$, we use a confidence level of 95% to determine the citical t-value. Using these values for our confidence interval (95%) and degrees of freedom (23), we get critical t-values of -2.069 and +2.069 as we have a two tailed hypthesis test. Our observed t-value is 8.02, well outside the critical values, which suggests our observed difference in means is significant.\n",
    "\n",
    "Based on the results of this analysis, we can be confident that word congruency **does have an effect** on the average response time of participants. We reject the Null hypothesis. "
   ]
  },
  {
   "cell_type": "markdown",
   "metadata": {},
   "source": [
    "Question (6):"
   ]
  },
  {
   "cell_type": "markdown",
   "metadata": {},
   "source": [
    "Based on [*Neuroscience For Kids*](https://faculty.washington.edu/chudler/neurok.html), maintained by Eric H. Chudler, Ph.D, but perfectly suitable for our brief research purposes, there are two theories for the cause of the Stroop effect:\n",
    "\n",
    ">1. Speed of Processing Theory: the interference occurs because words are read faster than colors are named.\n",
    ">2. Selective Attention Theory: the interference occurs because naming colors requires more attention than reading words.\n",
    "\n",
    "I would be interested to test whether or not the confusion occurs with **ANY** word/color incongruency. For example, if the words were animals but the participants were still asked to identify the ink color, would they find themselves stating \"dog\" or \"cat\" instead of the color? Do our minds weight what we process through the act of reading more important than the colors that we actually see, even when we are directed to state the colors? Do we only have trouble when the color and the context of what we are reading directly confilct, or is there a deeper mental conflict suggesting that once we acquire the skill of reading our minds begin to weight the importance of that process more than others (e.g., plain sight)? These questions seem appropriate for another experiment and a corresponding hypothesis test, after which we could infer the significance of the results."
   ]
  }
 ],
 "metadata": {
  "kernelspec": {
   "display_name": "Python [default]",
   "language": "python",
   "name": "python3"
  },
  "language_info": {
   "codemirror_mode": {
    "name": "ipython",
    "version": 3
   },
   "file_extension": ".py",
   "mimetype": "text/x-python",
   "name": "python",
   "nbconvert_exporter": "python",
   "pygments_lexer": "ipython3",
   "version": "3.6.4"
  }
 },
 "nbformat": 4,
 "nbformat_minor": 2
}
